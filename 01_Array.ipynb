{
  "nbformat": 4,
  "nbformat_minor": 0,
  "metadata": {
    "colab": {
      "name": "01 Array",
      "provenance": [],
      "collapsed_sections": [],
      "authorship_tag": "ABX9TyNHkfe/P6IMb9ky7gphEg1A",
      "include_colab_link": true
    },
    "kernelspec": {
      "name": "python3",
      "display_name": "Python 3"
    }
  },
  "cells": [
    {
      "cell_type": "markdown",
      "metadata": {
        "id": "view-in-github",
        "colab_type": "text"
      },
      "source": [
        "<a href=\"https://colab.research.google.com/github/MdShahadatHossainbd/Data-Structures-And-Algorithms/blob/main/01_Array.ipynb\" target=\"_parent\"><img src=\"https://colab.research.google.com/assets/colab-badge.svg\" alt=\"Open In Colab\"/></a>"
      ]
    },
    {
      "cell_type": "markdown",
      "metadata": {
        "id": "pePwUiEsEqkn"
      },
      "source": [
        "Creates an array "
      ]
    },
    {
      "cell_type": "code",
      "metadata": {
        "id": "qFdLvRt3-liQ",
        "outputId": "903124af-6571-457f-9404-757a028ef12b",
        "colab": {
          "base_uri": "https://localhost:8080/"
        }
      },
      "source": [
        "from array import *\n",
        "\n",
        "array1 = array('i', [10,20,30,40,50])\n",
        "\n",
        "for x in array1:\n",
        " print(x)"
      ],
      "execution_count": null,
      "outputs": [
        {
          "output_type": "stream",
          "text": [
            "10\n",
            "20\n",
            "30\n",
            "40\n",
            "50\n"
          ],
          "name": "stdout"
        }
      ]
    },
    {
      "cell_type": "code",
      "metadata": {
        "id": "q0n1owLSE7X-",
        "outputId": "849e877e-e50a-4a93-ec15-2f4cc7edefac",
        "colab": {
          "base_uri": "https://localhost:8080/"
        }
      },
      "source": [
        "from array import *\n",
        "\n",
        "array1 = array('i', [10,20,30,40,50])\n",
        "\n",
        "for x in array1:\n",
        " print(x,end=\" \")"
      ],
      "execution_count": null,
      "outputs": [
        {
          "output_type": "stream",
          "text": [
            "10 20 30 40 50 "
          ],
          "name": "stdout"
        }
      ]
    },
    {
      "cell_type": "markdown",
      "metadata": {
        "id": "vDslfHjLFNFG"
      },
      "source": [
        "Accessing Array Element"
      ]
    },
    {
      "cell_type": "code",
      "metadata": {
        "id": "IBIdWMrkFPGJ",
        "outputId": "e3596793-3380-4016-d935-f10bf51e2c39",
        "colab": {
          "base_uri": "https://localhost:8080/"
        }
      },
      "source": [
        "from array import *\n",
        "\n",
        "array1 = array('i', [10,20,30,40,50])\n",
        "\n",
        "print (array1[0])\n",
        "\n",
        "print (array1[2])"
      ],
      "execution_count": null,
      "outputs": [
        {
          "output_type": "stream",
          "text": [
            "10\n",
            "30\n"
          ],
          "name": "stdout"
        }
      ]
    },
    {
      "cell_type": "markdown",
      "metadata": {
        "id": "W2TmTtyBFvgA"
      },
      "source": [
        "Insertion Operation"
      ]
    },
    {
      "cell_type": "code",
      "metadata": {
        "id": "pVz47W5FF80w",
        "outputId": "38b28cb0-d0e3-4405-9091-c0e1d39f82b0",
        "colab": {
          "base_uri": "https://localhost:8080/"
        }
      },
      "source": [
        "from array import *\n",
        "\n",
        "array1 = array('i', [10,20,30,40,50])\n",
        "\n",
        "array1.insert(1,60)\n",
        "\n",
        "for x in array1:\n",
        " print(x)"
      ],
      "execution_count": null,
      "outputs": [
        {
          "output_type": "stream",
          "text": [
            "10\n",
            "60\n",
            "20\n",
            "30\n",
            "40\n",
            "50\n"
          ],
          "name": "stdout"
        }
      ]
    },
    {
      "cell_type": "markdown",
      "metadata": {
        "id": "BU9DevfSGGGe"
      },
      "source": [
        "Deletion Operation"
      ]
    },
    {
      "cell_type": "code",
      "metadata": {
        "id": "5alnT-LSGG5c",
        "outputId": "c400ac1d-9b77-41db-9977-6c3778be0523",
        "colab": {
          "base_uri": "https://localhost:8080/"
        }
      },
      "source": [
        "from array import *\n",
        "\n",
        "array1 = array('i', [10,20,30,40,50])\n",
        "\n",
        "array1.remove(40)\n",
        "\n",
        "for x in array1:\n",
        " print(x)"
      ],
      "execution_count": null,
      "outputs": [
        {
          "output_type": "stream",
          "text": [
            "10\n",
            "20\n",
            "30\n",
            "50\n"
          ],
          "name": "stdout"
        }
      ]
    },
    {
      "cell_type": "code",
      "metadata": {
        "id": "EecbWKdkGcpc",
        "outputId": "6c78d063-5eca-4678-ccd3-ddc90c14220c",
        "colab": {
          "base_uri": "https://localhost:8080/"
        }
      },
      "source": [
        "from array import *\n",
        "\n",
        "array1 = array('i', [10,20,30,40,50])\n",
        "\n",
        "#array1.remove(40)\n",
        "array1.remove(array1[4])\n",
        "for x in array1:\n",
        " print(x)"
      ],
      "execution_count": null,
      "outputs": [
        {
          "output_type": "stream",
          "text": [
            "10\n",
            "20\n",
            "30\n",
            "40\n"
          ],
          "name": "stdout"
        }
      ]
    },
    {
      "cell_type": "markdown",
      "metadata": {
        "id": "vKN_mHPiGkZF"
      },
      "source": [
        "Search Operation"
      ]
    },
    {
      "cell_type": "code",
      "metadata": {
        "id": "5of5zfKEH2YN",
        "outputId": "f5508729-f094-44fb-c704-56234ec82487",
        "colab": {
          "base_uri": "https://localhost:8080/"
        }
      },
      "source": [
        "from array import *\n",
        "\n",
        "array1 = array('i', [10,20,30,40,50])\n",
        "\n",
        "print (array1.index(40))"
      ],
      "execution_count": 13,
      "outputs": [
        {
          "output_type": "stream",
          "text": [
            "3\n"
          ],
          "name": "stdout"
        }
      ]
    },
    {
      "cell_type": "markdown",
      "metadata": {
        "id": "9YRTbxWNH8G7"
      },
      "source": [
        "Update Operation"
      ]
    },
    {
      "cell_type": "code",
      "metadata": {
        "id": "YM8_5RXYIBE8",
        "outputId": "d624a384-93f9-482d-ba76-8a1e8e44270e",
        "colab": {
          "base_uri": "https://localhost:8080/"
        }
      },
      "source": [
        "from array import *\n",
        "\n",
        "array1 = array('i', [10,20,30,40,50])\n",
        "\n",
        "array1[2] = 80\n",
        "\n",
        "for x in array1:\n",
        " print(x)"
      ],
      "execution_count": 14,
      "outputs": [
        {
          "output_type": "stream",
          "text": [
            "10\n",
            "20\n",
            "80\n",
            "40\n",
            "50\n"
          ],
          "name": "stdout"
        }
      ]
    }
  ]
}
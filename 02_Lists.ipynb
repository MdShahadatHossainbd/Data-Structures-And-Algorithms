{
  "nbformat": 4,
  "nbformat_minor": 0,
  "metadata": {
    "colab": {
      "name": "02 Lists.ipynb",
      "provenance": [],
      "authorship_tag": "ABX9TyMSS0CvslR0tguzbxCi4O7g",
      "include_colab_link": true
    },
    "kernelspec": {
      "name": "python3",
      "display_name": "Python 3"
    }
  },
  "cells": [
    {
      "cell_type": "markdown",
      "metadata": {
        "id": "view-in-github",
        "colab_type": "text"
      },
      "source": [
        "<a href=\"https://colab.research.google.com/github/MdShahadatHossainbd/Data-Structures-And-Algorithms/blob/main/02_Lists.ipynb\" target=\"_parent\"><img src=\"https://colab.research.google.com/assets/colab-badge.svg\" alt=\"Open In Colab\"/></a>"
      ]
    },
    {
      "cell_type": "markdown",
      "metadata": {
        "id": "nczkeQNdyIsX"
      },
      "source": [
        "Accessing Values in Lists"
      ]
    },
    {
      "cell_type": "code",
      "metadata": {
        "id": "VG960hMsxz5B",
        "outputId": "4e97e1f4-9e02-4433-ec71-cd450057a0c4",
        "colab": {
          "base_uri": "https://localhost:8080/"
        }
      },
      "source": [
        "list1 = ['physics', 'chemistry', 1997, 2000]\n",
        "list2 = [1, 2, 3, 4, 5, 6, 7 ]\n",
        "print(\"list1[0]: \", list1[0])\n",
        "print(\"list2[1:5]: \", list2[1:5])"
      ],
      "execution_count": 2,
      "outputs": [
        {
          "output_type": "stream",
          "text": [
            "list1[0]:  physics\n",
            "list2[1:5]:  [2, 3, 4, 5]\n"
          ],
          "name": "stdout"
        }
      ]
    },
    {
      "cell_type": "markdown",
      "metadata": {
        "id": "l6kvQrj6yPe8"
      },
      "source": [
        "Updating Lists"
      ]
    },
    {
      "cell_type": "code",
      "metadata": {
        "id": "VGL5TwBxyqYq",
        "outputId": "c0bb64c8-6af8-457c-ad46-f463189428df",
        "colab": {
          "base_uri": "https://localhost:8080/"
        }
      },
      "source": [
        "list = ['physics', 'chemistry', 1997, 2000]\n",
        "print(\"Value available at index 2 : \")\n",
        "print(list[2])\n",
        "list[2] = 2001\n",
        "print(\"New value available at index 2 : \")\n",
        "print(list[2])"
      ],
      "execution_count": 4,
      "outputs": [
        {
          "output_type": "stream",
          "text": [
            "Value available at index 2 : \n",
            "1997\n",
            "New value available at index 2 : \n",
            "2001\n"
          ],
          "name": "stdout"
        }
      ]
    },
    {
      "cell_type": "markdown",
      "metadata": {
        "id": "Wy_4buHl2A3Q"
      },
      "source": [
        "Delete List Elements"
      ]
    },
    {
      "cell_type": "code",
      "metadata": {
        "id": "rlvc79gL2AgC",
        "outputId": "887183a0-cb3b-4713-a23d-f404f57f7363",
        "colab": {
          "base_uri": "https://localhost:8080/"
        }
      },
      "source": [
        "list1 = ['physics', 'chemistry', 1997, 2000]\n",
        "print(list1)\n",
        "del list1[2]\n",
        "print(\"After deleting value at index 2 : \")\n",
        "print(list1)"
      ],
      "execution_count": 6,
      "outputs": [
        {
          "output_type": "stream",
          "text": [
            "['physics', 'chemistry', 1997, 2000]\n",
            "After deleting value at index 2 : \n",
            "['physics', 'chemistry', 2000]\n"
          ],
          "name": "stdout"
        }
      ]
    }
  ]
}
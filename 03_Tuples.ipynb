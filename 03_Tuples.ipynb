{
  "nbformat": 4,
  "nbformat_minor": 0,
  "metadata": {
    "colab": {
      "name": "03 Tuples.ipynb",
      "provenance": [],
      "authorship_tag": "ABX9TyO7noZDLtoxZ9/07OkEPLM3",
      "include_colab_link": true
    },
    "kernelspec": {
      "name": "python3",
      "display_name": "Python 3"
    }
  },
  "cells": [
    {
      "cell_type": "markdown",
      "metadata": {
        "id": "view-in-github",
        "colab_type": "text"
      },
      "source": [
        "<a href=\"https://colab.research.google.com/github/MdShahadatHossainbd/Data-Structures-And-Algorithms/blob/main/03_Tuples.ipynb\" target=\"_parent\"><img src=\"https://colab.research.google.com/assets/colab-badge.svg\" alt=\"Open In Colab\"/></a>"
      ]
    },
    {
      "cell_type": "markdown",
      "metadata": {
        "id": "Mb6cRfL4uHDZ"
      },
      "source": [
        "Accessing Values in Tuples"
      ]
    },
    {
      "cell_type": "code",
      "metadata": {
        "id": "uQDejJyeg1jk",
        "outputId": "7dd25299-fd5c-4ea3-90f9-8d742b0a5eb3",
        "colab": {
          "base_uri": "https://localhost:8080/"
        }
      },
      "source": [
        "tup1 = ('physics', 'chemistry', 1997, 2000);\n",
        "tup2 = (1, 2, 3, 4, 5, 6, 7 );\n",
        "print(\"tup1[0]: \", tup1[0])\n",
        "print(\"tup2[1:5]: \", tup2[1:5])"
      ],
      "execution_count": 1,
      "outputs": [
        {
          "output_type": "stream",
          "text": [
            "tup1[0]:  physics\n",
            "tup2[1:5]:  (2, 3, 4, 5)\n"
          ],
          "name": "stdout"
        }
      ]
    },
    {
      "cell_type": "markdown",
      "metadata": {
        "id": "2Vos2gUPuTEO"
      },
      "source": [
        "Updating Tuples"
      ]
    },
    {
      "cell_type": "code",
      "metadata": {
        "id": "M9Fe8PHbub_B",
        "outputId": "23b9fa8f-0a85-46de-e952-db00f87e4bda",
        "colab": {
          "base_uri": "https://localhost:8080/"
        }
      },
      "source": [
        "tup1 = (12, 34.56);\n",
        "tup2 = ('abc', 'xyz');\n",
        "\n",
        "# Following action is not valid for tuples\n",
        "# tup1[0] = 100;\n",
        "\n",
        "# So let's create a new tuple as follows\n",
        "tup3 = tup1 + tup2;\n",
        "print(tup3)"
      ],
      "execution_count": 2,
      "outputs": [
        {
          "output_type": "stream",
          "text": [
            "(12, 34.56, 'abc', 'xyz')\n"
          ],
          "name": "stdout"
        }
      ]
    },
    {
      "cell_type": "markdown",
      "metadata": {
        "id": "0m2ngpTyul6u"
      },
      "source": [
        "Delete Tuple Elements"
      ]
    },
    {
      "cell_type": "code",
      "metadata": {
        "id": "jXonXlY-uoXR",
        "outputId": "0fa7c158-6406-4589-8f29-283b1ef1f9aa",
        "colab": {
          "base_uri": "https://localhost:8080/"
        }
      },
      "source": [
        "tup = ('physics', 'chemistry', 1997, 2000);\n",
        "print(tup)\n",
        "del tup;\n",
        "print(\"After deleting tup : \")"
      ],
      "execution_count": 7,
      "outputs": [
        {
          "output_type": "stream",
          "text": [
            "('physics', 'chemistry', 1997, 2000)\n",
            "After deleting tup : \n"
          ],
          "name": "stdout"
        }
      ]
    },
    {
      "cell_type": "code",
      "metadata": {
        "id": "7-W8eK-4vSg6",
        "outputId": "68b3fabd-1837-4d52-bcd3-af494e80a603",
        "colab": {
          "base_uri": "https://localhost:8080/"
        }
      },
      "source": [
        "#Length\n",
        "print(len((1, 2, 3)))"
      ],
      "execution_count": 10,
      "outputs": [
        {
          "output_type": "stream",
          "text": [
            "3\n"
          ],
          "name": "stdout"
        }
      ]
    },
    {
      "cell_type": "code",
      "metadata": {
        "id": "do_RsUtWvjFC",
        "outputId": "e649b0a3-13f1-4105-cfab-5fd6148c1fe7",
        "colab": {
          "base_uri": "https://localhost:8080/"
        }
      },
      "source": [
        "#Concatenation\n",
        "print((1, 2, 3) + (4, 5, 6))"
      ],
      "execution_count": 11,
      "outputs": [
        {
          "output_type": "stream",
          "text": [
            "(1, 2, 3, 4, 5, 6)\n"
          ],
          "name": "stdout"
        }
      ]
    },
    {
      "cell_type": "code",
      "metadata": {
        "id": "Ifc-uJHJvoxl",
        "outputId": "c1428784-114c-4c4e-c0cb-a4a97c1bd71b",
        "colab": {
          "base_uri": "https://localhost:8080/"
        }
      },
      "source": [
        "#Repetition\n",
        "print(('Hi!',) * 4)"
      ],
      "execution_count": 12,
      "outputs": [
        {
          "output_type": "stream",
          "text": [
            "('Hi!', 'Hi!', 'Hi!', 'Hi!')\n"
          ],
          "name": "stdout"
        }
      ]
    },
    {
      "cell_type": "code",
      "metadata": {
        "id": "W93qL0Tvvzq5",
        "outputId": "c2652263-729d-4eae-f764-4ebf8485210d",
        "colab": {
          "base_uri": "https://localhost:8080/"
        }
      },
      "source": [
        "#Membership\n",
        "print(3 in (1, 2, 3))"
      ],
      "execution_count": 13,
      "outputs": [
        {
          "output_type": "stream",
          "text": [
            "True\n"
          ],
          "name": "stdout"
        }
      ]
    },
    {
      "cell_type": "code",
      "metadata": {
        "id": "3dUjvDfqv7qn",
        "outputId": "2caf301d-ffd6-435d-d24b-15fd883988a4",
        "colab": {
          "base_uri": "https://localhost:8080/"
        }
      },
      "source": [
        "#Membership\n",
        "print(8 in (0, 1, 2, 3, 4, 5))"
      ],
      "execution_count": 17,
      "outputs": [
        {
          "output_type": "stream",
          "text": [
            "False\n"
          ],
          "name": "stdout"
        }
      ]
    },
    {
      "cell_type": "code",
      "metadata": {
        "id": "7DHPodflwUfC",
        "outputId": "5622e388-e03e-4f13-f3cd-a94bf8f88900",
        "colab": {
          "base_uri": "https://localhost:8080/"
        }
      },
      "source": [
        "#Iteration\n",
        "for x in (1, 2, 3): print(x)"
      ],
      "execution_count": 20,
      "outputs": [
        {
          "output_type": "stream",
          "text": [
            "1\n",
            "2\n",
            "3\n"
          ],
          "name": "stdout"
        }
      ]
    }
  ]
}
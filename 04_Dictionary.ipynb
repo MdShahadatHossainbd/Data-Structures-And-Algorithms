{
  "nbformat": 4,
  "nbformat_minor": 0,
  "metadata": {
    "colab": {
      "name": "04 Dictionary.ipynb",
      "provenance": [],
      "authorship_tag": "ABX9TyOh6ElD/dGg24DAHuJMnNMf",
      "include_colab_link": true
    },
    "kernelspec": {
      "name": "python3",
      "display_name": "Python 3"
    }
  },
  "cells": [
    {
      "cell_type": "markdown",
      "metadata": {
        "id": "view-in-github",
        "colab_type": "text"
      },
      "source": [
        "<a href=\"https://colab.research.google.com/github/MdShahadatHossainbd/Data-Structures-And-Algorithms/blob/main/04_Dictionary.ipynb\" target=\"_parent\"><img src=\"https://colab.research.google.com/assets/colab-badge.svg\" alt=\"Open In Colab\"/></a>"
      ]
    },
    {
      "cell_type": "markdown",
      "metadata": {
        "id": "OuvTI94c84YI"
      },
      "source": [
        "Accessing Values in Dictionary"
      ]
    },
    {
      "cell_type": "code",
      "metadata": {
        "id": "L4tDRTvc7iYY",
        "outputId": "15184bd1-95af-4bcb-f0fb-23991cfffdb7",
        "colab": {
          "base_uri": "https://localhost:8080/"
        }
      },
      "source": [
        "dict = {'Name': 'Zara', 'Age': 7, 'Class': 'First'}\n",
        "print(\"dict['Name']: \", dict['Name'])\n",
        "print(\"dict['Age']: \", dict['Age'])"
      ],
      "execution_count": 1,
      "outputs": [
        {
          "output_type": "stream",
          "text": [
            "dict['Name']:  Zara\n",
            "dict['Age']:  7\n"
          ],
          "name": "stdout"
        }
      ]
    },
    {
      "cell_type": "code",
      "metadata": {
        "id": "5cFBQwQs9vNi",
        "outputId": "1771e320-bbdd-4668-fd3e-dff7deb20a62",
        "colab": {
          "base_uri": "https://localhost:8080/"
        }
      },
      "source": [
        "print(dict['Name'])\n",
        "print(dict['Age'])\n",
        "print(dict['Class'])"
      ],
      "execution_count": 3,
      "outputs": [
        {
          "output_type": "stream",
          "text": [
            "Zara\n",
            "7\n",
            "First\n"
          ],
          "name": "stdout"
        }
      ]
    },
    {
      "cell_type": "markdown",
      "metadata": {
        "id": "FzFpa7od-RLj"
      },
      "source": [
        "If we attempt to access a data item with a key, which is not part of the dictionary, we get an error as follows"
      ]
    },
    {
      "cell_type": "code",
      "metadata": {
        "id": "t9iM4qp9-KbE",
        "outputId": "c83c71d9-48c4-47e1-f052-01330c352490",
        "colab": {
          "base_uri": "https://localhost:8080/",
          "height": 191
        }
      },
      "source": [
        "dict = {'Name': 'Zara', 'Age': 7, 'Class': 'First'}\n",
        "print(\"dict['Alice']: \", dict['Alice'])"
      ],
      "execution_count": 4,
      "outputs": [
        {
          "output_type": "error",
          "ename": "KeyError",
          "evalue": "ignored",
          "traceback": [
            "\u001b[0;31m---------------------------------------------------------------------------\u001b[0m",
            "\u001b[0;31mKeyError\u001b[0m                                  Traceback (most recent call last)",
            "\u001b[0;32m<ipython-input-4-56591f3a9c34>\u001b[0m in \u001b[0;36m<module>\u001b[0;34m()\u001b[0m\n\u001b[1;32m      1\u001b[0m \u001b[0mdict\u001b[0m \u001b[0;34m=\u001b[0m \u001b[0;34m{\u001b[0m\u001b[0;34m'Name'\u001b[0m\u001b[0;34m:\u001b[0m \u001b[0;34m'Zara'\u001b[0m\u001b[0;34m,\u001b[0m \u001b[0;34m'Age'\u001b[0m\u001b[0;34m:\u001b[0m \u001b[0;36m7\u001b[0m\u001b[0;34m,\u001b[0m \u001b[0;34m'Class'\u001b[0m\u001b[0;34m:\u001b[0m \u001b[0;34m'First'\u001b[0m\u001b[0;34m}\u001b[0m\u001b[0;34m\u001b[0m\u001b[0;34m\u001b[0m\u001b[0m\n\u001b[0;32m----> 2\u001b[0;31m \u001b[0mprint\u001b[0m\u001b[0;34m(\u001b[0m\u001b[0;34m\"dict['Alice']: \"\u001b[0m\u001b[0;34m,\u001b[0m \u001b[0mdict\u001b[0m\u001b[0;34m[\u001b[0m\u001b[0;34m'Alice'\u001b[0m\u001b[0;34m]\u001b[0m\u001b[0;34m)\u001b[0m\u001b[0;34m\u001b[0m\u001b[0;34m\u001b[0m\u001b[0m\n\u001b[0m",
            "\u001b[0;31mKeyError\u001b[0m: 'Alice'"
          ]
        }
      ]
    },
    {
      "cell_type": "markdown",
      "metadata": {
        "id": "xr9NPWlO-bNd"
      },
      "source": [
        "Updating Dictionary"
      ]
    },
    {
      "cell_type": "code",
      "metadata": {
        "id": "gI9J9Fit-fsH",
        "outputId": "dbd44efc-fa40-4ae3-bb92-04cb793efea0",
        "colab": {
          "base_uri": "https://localhost:8080/"
        }
      },
      "source": [
        "dict = {'Name': 'Zara', 'Age': 7, 'Class': 'First'}\n",
        "dict['Age'] = 8; # update existing entry\n",
        "dict['School'] = \"DPS School\"; # Add new entry\n",
        "\n",
        "print(\"dict['Age']: \", dict['Age'])\n",
        "print(\"dict['School']: \", dict['School'])"
      ],
      "execution_count": 5,
      "outputs": [
        {
          "output_type": "stream",
          "text": [
            "dict['Age']:  8\n",
            "dict['School']:  DPS School\n"
          ],
          "name": "stdout"
        }
      ]
    },
    {
      "cell_type": "code",
      "metadata": {
        "id": "oXW4CB21-vYO",
        "outputId": "a90eb494-b827-494c-e4e2-865d4400e510",
        "colab": {
          "base_uri": "https://localhost:8080/"
        }
      },
      "source": [
        "print(dict['Age'])\n",
        "print(dict['School'])\n",
        "print(dict['Class'])\n",
        "print(dict['Name'])"
      ],
      "execution_count": 7,
      "outputs": [
        {
          "output_type": "stream",
          "text": [
            "8\n",
            "DPS School\n",
            "First\n",
            "Zara\n"
          ],
          "name": "stdout"
        }
      ]
    },
    {
      "cell_type": "markdown",
      "metadata": {
        "id": "ZWPvyRDv_DJw"
      },
      "source": [
        "Delete Dictionary Elements"
      ]
    },
    {
      "cell_type": "code",
      "metadata": {
        "id": "Nc8XqBpH-sjX",
        "outputId": "f00e1b60-e32a-4097-dcfe-973c54850e47",
        "colab": {
          "base_uri": "https://localhost:8080/",
          "height": 264
        }
      },
      "source": [
        "dict = {'Name': 'Zara', 'Age': 7, 'Class': 'First'}\n",
        "print(dict['Name'])\n",
        "del dict['Name']; # remove entry with key 'Name'\n",
        "print(\"dict['Age']: \", dict['Age'])\n",
        "\n",
        "dict.clear();     # remove all entries in dict\n",
        "del dict ;        # delete entire dictionary\n",
        "\n",
        "print(\"dict['Age']: \", dict['Age'])\n",
        "print(\"dict['School']: \", dict['School'])"
      ],
      "execution_count": 11,
      "outputs": [
        {
          "output_type": "stream",
          "text": [
            "Zara\n",
            "dict['Age']:  7\n"
          ],
          "name": "stdout"
        },
        {
          "output_type": "error",
          "ename": "TypeError",
          "evalue": "ignored",
          "traceback": [
            "\u001b[0;31m---------------------------------------------------------------------------\u001b[0m",
            "\u001b[0;31mTypeError\u001b[0m                                 Traceback (most recent call last)",
            "\u001b[0;32m<ipython-input-11-959527f16f77>\u001b[0m in \u001b[0;36m<module>\u001b[0;34m()\u001b[0m\n\u001b[1;32m      7\u001b[0m \u001b[0;32mdel\u001b[0m \u001b[0mdict\u001b[0m \u001b[0;34m;\u001b[0m        \u001b[0;31m# delete entire dictionary\u001b[0m\u001b[0;34m\u001b[0m\u001b[0;34m\u001b[0m\u001b[0m\n\u001b[1;32m      8\u001b[0m \u001b[0;34m\u001b[0m\u001b[0m\n\u001b[0;32m----> 9\u001b[0;31m \u001b[0mprint\u001b[0m\u001b[0;34m(\u001b[0m\u001b[0;34m\"dict['Age']: \"\u001b[0m\u001b[0;34m,\u001b[0m \u001b[0mdict\u001b[0m\u001b[0;34m[\u001b[0m\u001b[0;34m'Age'\u001b[0m\u001b[0;34m]\u001b[0m\u001b[0;34m)\u001b[0m\u001b[0;34m\u001b[0m\u001b[0;34m\u001b[0m\u001b[0m\n\u001b[0m\u001b[1;32m     10\u001b[0m \u001b[0mprint\u001b[0m\u001b[0;34m(\u001b[0m\u001b[0;34m\"dict['School']: \"\u001b[0m\u001b[0;34m,\u001b[0m \u001b[0mdict\u001b[0m\u001b[0;34m[\u001b[0m\u001b[0;34m'School'\u001b[0m\u001b[0;34m]\u001b[0m\u001b[0;34m)\u001b[0m\u001b[0;34m\u001b[0m\u001b[0;34m\u001b[0m\u001b[0m\n",
            "\u001b[0;31mTypeError\u001b[0m: 'type' object is not subscriptable"
          ]
        }
      ]
    },
    {
      "cell_type": "markdown",
      "metadata": {
        "id": "b6rgfZ6sAEKn"
      },
      "source": [
        "Properties of Dictionary Keys"
      ]
    },
    {
      "cell_type": "code",
      "metadata": {
        "id": "_iuAWwbzAE1X",
        "outputId": "553d2484-5058-49d7-db55-ce2718bed470",
        "colab": {
          "base_uri": "https://localhost:8080/"
        }
      },
      "source": [
        "dict = {'Name': 'Zara', 'Age': 7, 'Name': 'Manni'}\n",
        "print(\"dict['Name']: \", dict['Name'])"
      ],
      "execution_count": 12,
      "outputs": [
        {
          "output_type": "stream",
          "text": [
            "dict['Name']:  Manni\n"
          ],
          "name": "stdout"
        }
      ]
    },
    {
      "cell_type": "code",
      "metadata": {
        "id": "sRNk_bhmAT0-",
        "outputId": "48bf438d-7c75-4092-ca5c-97c59d43f429",
        "colab": {
          "base_uri": "https://localhost:8080/",
          "height": 209
        }
      },
      "source": [
        "#Keys must be immutable\n",
        "dict = {['Name']: 'Zara', 'Age': 7}\n",
        "print(\"dict['Name']: \", dict['Name'])"
      ],
      "execution_count": 13,
      "outputs": [
        {
          "output_type": "error",
          "ename": "TypeError",
          "evalue": "ignored",
          "traceback": [
            "\u001b[0;31m---------------------------------------------------------------------------\u001b[0m",
            "\u001b[0;31mTypeError\u001b[0m                                 Traceback (most recent call last)",
            "\u001b[0;32m<ipython-input-13-faf6bd176f85>\u001b[0m in \u001b[0;36m<module>\u001b[0;34m()\u001b[0m\n\u001b[1;32m      1\u001b[0m \u001b[0;31m#Keys must be immutable\u001b[0m\u001b[0;34m\u001b[0m\u001b[0;34m\u001b[0m\u001b[0;34m\u001b[0m\u001b[0m\n\u001b[0;32m----> 2\u001b[0;31m \u001b[0mdict\u001b[0m \u001b[0;34m=\u001b[0m \u001b[0;34m{\u001b[0m\u001b[0;34m[\u001b[0m\u001b[0;34m'Name'\u001b[0m\u001b[0;34m]\u001b[0m\u001b[0;34m:\u001b[0m \u001b[0;34m'Zara'\u001b[0m\u001b[0;34m,\u001b[0m \u001b[0;34m'Age'\u001b[0m\u001b[0;34m:\u001b[0m \u001b[0;36m7\u001b[0m\u001b[0;34m}\u001b[0m\u001b[0;34m\u001b[0m\u001b[0;34m\u001b[0m\u001b[0m\n\u001b[0m\u001b[1;32m      3\u001b[0m \u001b[0mprint\u001b[0m\u001b[0;34m(\u001b[0m\u001b[0;34m\"dict['Name']: \"\u001b[0m\u001b[0;34m,\u001b[0m \u001b[0mdict\u001b[0m\u001b[0;34m[\u001b[0m\u001b[0;34m'Name'\u001b[0m\u001b[0;34m]\u001b[0m\u001b[0;34m)\u001b[0m\u001b[0;34m\u001b[0m\u001b[0;34m\u001b[0m\u001b[0m\n",
            "\u001b[0;31mTypeError\u001b[0m: unhashable type: 'list'"
          ]
        }
      ]
    },
    {
      "cell_type": "code",
      "metadata": {
        "id": "qRdHj0SwAiOf",
        "outputId": "d2737fe9-0d5f-424c-ed64-d09d3b6eb957",
        "colab": {
          "base_uri": "https://localhost:8080/"
        }
      },
      "source": [
        "dict = {'Name': 'Zara', 'Age': 7}\n",
        "print(dict['Name'])"
      ],
      "execution_count": 15,
      "outputs": [
        {
          "output_type": "stream",
          "text": [
            "Zara\n"
          ],
          "name": "stdout"
        }
      ]
    }
  ]
}
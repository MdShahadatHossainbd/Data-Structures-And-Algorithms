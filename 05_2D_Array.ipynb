{
  "nbformat": 4,
  "nbformat_minor": 0,
  "metadata": {
    "colab": {
      "name": "05 2D Array.ipynb",
      "provenance": [],
      "authorship_tag": "ABX9TyOaVuJcqlw/p783B4xW6hCT",
      "include_colab_link": true
    },
    "kernelspec": {
      "name": "python3",
      "display_name": "Python 3"
    }
  },
  "cells": [
    {
      "cell_type": "markdown",
      "metadata": {
        "id": "view-in-github",
        "colab_type": "text"
      },
      "source": [
        "<a href=\"https://colab.research.google.com/github/MdShahadatHossainbd/Data-Structures-And-Algorithms/blob/main/05_2D_Array.ipynb\" target=\"_parent\"><img src=\"https://colab.research.google.com/assets/colab-badge.svg\" alt=\"Open In Colab\"/></a>"
      ]
    },
    {
      "cell_type": "markdown",
      "metadata": {
        "id": "nEUBpLqawnu7"
      },
      "source": [
        "Accessing Values in a Two Dimensional Array"
      ]
    },
    {
      "cell_type": "code",
      "metadata": {
        "id": "r6L4AHo_wiUy",
        "outputId": "5b1ca7e2-1071-45be-a618-5496e0fb7b4f",
        "colab": {
          "base_uri": "https://localhost:8080/"
        }
      },
      "source": [
        "from array import *\n",
        "\n",
        "T = [[11, 12, 5, 2], [15, 6,10], [10, 8, 12, 5], [12,15,8,6]]\n",
        "\n",
        "print(T[0])\n",
        "\n",
        "print(T[1][2])"
      ],
      "execution_count": 1,
      "outputs": [
        {
          "output_type": "stream",
          "text": [
            "[11, 12, 5, 2]\n",
            "10\n"
          ],
          "name": "stdout"
        }
      ]
    },
    {
      "cell_type": "code",
      "metadata": {
        "id": "qmA_b8f4xVOR",
        "outputId": "53d1b0a1-62da-4f82-dca0-b49679338120",
        "colab": {
          "base_uri": "https://localhost:8080/"
        }
      },
      "source": [
        "#Loop\n",
        "from array import *\n",
        "\n",
        "T = [[11, 12, 5, 2], [15, 6,10], [10, 8, 12, 5], [12,15,8,6]]\n",
        "for i in T:\n",
        "    for c in i:\n",
        "        print(c,end = \" \")\n",
        "    print()"
      ],
      "execution_count": 3,
      "outputs": [
        {
          "output_type": "stream",
          "text": [
            "11 12 5 2 \n",
            "15 6 10 \n",
            "10 8 12 5 \n",
            "12 15 8 6 \n"
          ],
          "name": "stdout"
        }
      ]
    },
    {
      "cell_type": "code",
      "metadata": {
        "id": "j0YQ4wn8xjwX",
        "outputId": "7eb83fb6-8c13-46cc-b888-880becd097b0",
        "colab": {
          "base_uri": "https://localhost:8080/"
        }
      },
      "source": [
        "from array import *\n",
        "\n",
        "T = [[11, 12, 5, 2], [15, 6,10], [10, 8, 12, 5], [12,15,8,6]]\n",
        "for r in T:\n",
        "  print(r,end = \" \")"
      ],
      "execution_count": 5,
      "outputs": [
        {
          "output_type": "stream",
          "text": [
            "[11, 12, 5, 2] [15, 6, 10] [10, 8, 12, 5] [12, 15, 8, 6] "
          ],
          "name": "stdout"
        }
      ]
    },
    {
      "cell_type": "code",
      "metadata": {
        "id": "cVgqCYlVx89g",
        "outputId": "fa9cc40e-5bd8-46bf-880d-3363b7b50580",
        "colab": {
          "base_uri": "https://localhost:8080/"
        }
      },
      "source": [
        "from array import *\n",
        "\n",
        "T = [[11, 12, 5, 2], [15, 6,10], [10, 8, 12, 5], [12,15,8,6]]\n",
        "for r in T:\n",
        "  print(r)"
      ],
      "execution_count": 7,
      "outputs": [
        {
          "output_type": "stream",
          "text": [
            "[11, 12, 5, 2]\n",
            "[15, 6, 10]\n",
            "[10, 8, 12, 5]\n",
            "[12, 15, 8, 6]\n"
          ],
          "name": "stdout"
        }
      ]
    },
    {
      "cell_type": "markdown",
      "metadata": {
        "id": "8B2EnCU9z9I8"
      },
      "source": [
        "Inserting Values in Two Dimensional Array"
      ]
    },
    {
      "cell_type": "code",
      "metadata": {
        "id": "bwcQOJ460CJz",
        "outputId": "64bb8079-3112-4bb5-eb01-d2f429fb5a4c",
        "colab": {
          "base_uri": "https://localhost:8080/"
        }
      },
      "source": [
        "from array import *\n",
        "T = [[11, 12, 5, 2], [15, 6,10], [10, 8, 12, 5], [12,15,8,6]]\n",
        "\n",
        "T.insert (2, [0,5,11,13,6])\n",
        "\n",
        "for r in T:\n",
        "    for c in r:\n",
        "        print(c,end = \" \")\n",
        "    print()"
      ],
      "execution_count": 14,
      "outputs": [
        {
          "output_type": "stream",
          "text": [
            "11 12 5 2 \n",
            "15 6 10 \n",
            "0 5 11 13 6 \n",
            "10 8 12 5 \n",
            "12 15 8 6 \n"
          ],
          "name": "stdout"
        }
      ]
    },
    {
      "cell_type": "code",
      "metadata": {
        "id": "M5R3ujDA0SHW",
        "outputId": "c61493ec-9c48-4420-8134-8990e3deca88",
        "colab": {
          "base_uri": "https://localhost:8080/"
        }
      },
      "source": [
        "from array import *\n",
        "T = [[11, 12, 5, 2], [15, 6,10], [10, 8, 12, 5], [12,15,8,6]]\n",
        "\n",
        "T.insert (4, [0,5,11,13,6])\n",
        "\n",
        "for r in T:\n",
        "    for c in r:\n",
        "        print(c,end = \" \")\n",
        "    print()"
      ],
      "execution_count": 15,
      "outputs": [
        {
          "output_type": "stream",
          "text": [
            "11 12 5 2 \n",
            "15 6 10 \n",
            "10 8 12 5 \n",
            "12 15 8 6 \n",
            "0 5 11 13 6 \n"
          ],
          "name": "stdout"
        }
      ]
    },
    {
      "cell_type": "markdown",
      "metadata": {
        "id": "mv8Z9Uf30mrK"
      },
      "source": [
        "Updating Values in Two Dimensional Array"
      ]
    },
    {
      "cell_type": "code",
      "metadata": {
        "id": "wDLGquQy0npV",
        "outputId": "6e47ba06-00b9-4b53-f42e-903efa66e754",
        "colab": {
          "base_uri": "https://localhost:8080/"
        }
      },
      "source": [
        "from array import *\n",
        "\n",
        "T = [[11, 12, 5, 2], [15, 6,10], [10, 8, 12, 5], [12,15,8,6]]\n",
        "\n",
        "T[2] = [11,9]\n",
        "T[0][3] = 7\n",
        "for r in T:\n",
        "    for c in r:\n",
        "        print(c,end = \" \")\n",
        "    print()"
      ],
      "execution_count": 16,
      "outputs": [
        {
          "output_type": "stream",
          "text": [
            "11 12 5 7 \n",
            "15 6 10 \n",
            "11 9 \n",
            "12 15 8 6 \n"
          ],
          "name": "stdout"
        }
      ]
    },
    {
      "cell_type": "code",
      "metadata": {
        "id": "_qwrrEzU1uUH",
        "outputId": "9397292b-9ba0-4b8b-c781-bc3c7b42e5a6",
        "colab": {
          "base_uri": "https://localhost:8080/"
        }
      },
      "source": [
        "from array import *\n",
        "\n",
        "T = [[11, 12, 5, 2], [15, 6,10], [10, 8, 12, 5], [12,15,8,6]]\n",
        "\n",
        "T[2] = [11,9]\n",
        "T[0][3] = 7\n",
        "T[1][2] = 5\n",
        "for r in T:\n",
        "    for c in r:\n",
        "        print(c,end = \" \")\n",
        "    print()"
      ],
      "execution_count": 18,
      "outputs": [
        {
          "output_type": "stream",
          "text": [
            "11 12 5 7 \n",
            "15 6 5 \n",
            "11 9 \n",
            "12 15 8 6 \n"
          ],
          "name": "stdout"
        }
      ]
    },
    {
      "cell_type": "markdown",
      "metadata": {
        "id": "zXFw9Fiw2GmP"
      },
      "source": [
        "Deleting the Values in Two Dimensional Array"
      ]
    },
    {
      "cell_type": "code",
      "metadata": {
        "id": "3kPAUzHY2HWN",
        "outputId": "ef321647-9ecc-4858-94bf-ea93699953e6",
        "colab": {
          "base_uri": "https://localhost:8080/"
        }
      },
      "source": [
        "from array import *\n",
        "T = [[11, 12, 5, 2], [15, 6,10], [10, 8, 12, 5], [12,15,8,6]]\n",
        "\n",
        "del T[3]\n",
        "\n",
        "for r in T:\n",
        "    for c in r:\n",
        "        print(c,end = \" \")\n",
        "    print()"
      ],
      "execution_count": 19,
      "outputs": [
        {
          "output_type": "stream",
          "text": [
            "11 12 5 2 \n",
            "15 6 10 \n",
            "10 8 12 5 \n"
          ],
          "name": "stdout"
        }
      ]
    },
    {
      "cell_type": "code",
      "metadata": {
        "id": "8-AxJvtT2RWR",
        "outputId": "cb35ed69-08f1-43d5-a094-8a2ca123496c",
        "colab": {
          "base_uri": "https://localhost:8080/"
        }
      },
      "source": [
        "from array import *\n",
        "T = [[11, 12, 5, 2], [15, 6,10], [10, 8, 12, 5], [12,15,8,6]]\n",
        "\n",
        "del T[3]\n",
        "del T[1][2]\n",
        "\n",
        "for r in T:\n",
        "    for c in r:\n",
        "        print(c,end = \" \")\n",
        "    print()"
      ],
      "execution_count": 20,
      "outputs": [
        {
          "output_type": "stream",
          "text": [
            "11 12 5 2 \n",
            "15 6 \n",
            "10 8 12 5 \n"
          ],
          "name": "stdout"
        }
      ]
    }
  ]
}
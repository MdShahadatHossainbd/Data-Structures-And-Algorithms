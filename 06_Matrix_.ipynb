{
  "nbformat": 4,
  "nbformat_minor": 0,
  "metadata": {
    "colab": {
      "name": "06 Matrix .ipynb",
      "provenance": [],
      "authorship_tag": "ABX9TyOXtO771TRBTtuFfodYOoo2",
      "include_colab_link": true
    },
    "kernelspec": {
      "name": "python3",
      "display_name": "Python 3"
    }
  },
  "cells": [
    {
      "cell_type": "markdown",
      "metadata": {
        "id": "view-in-github",
        "colab_type": "text"
      },
      "source": [
        "<a href=\"https://colab.research.google.com/github/MdShahadatHossainbd/Data-Structures-And-Algorithms/blob/main/06_Matrix_.ipynb\" target=\"_parent\"><img src=\"https://colab.research.google.com/assets/colab-badge.svg\" alt=\"Open In Colab\"/></a>"
      ]
    },
    {
      "cell_type": "markdown",
      "metadata": {
        "id": "eUYoqbzP5IEv"
      },
      "source": [
        "Matrix "
      ]
    },
    {
      "cell_type": "code",
      "metadata": {
        "id": "bEhvYwh25BwD",
        "outputId": "20fe8a49-a443-40a1-fecf-080db785b274",
        "colab": {
          "base_uri": "https://localhost:8080/"
        }
      },
      "source": [
        "from numpy import * \n",
        "a = array([['Mon',18,20,22,17],['Tue',11,18,21,18],\n",
        "\t\t   ['Wed',15,21,20,19],['Thu',11,20,22,21],\n",
        "\t\t   ['Fri',18,17,23,22],['Sat',12,22,20,18],\n",
        "\t\t   ['Sun',13,15,19,16]])\n",
        "    \n",
        "m = reshape(a,(7,5))\n",
        "print(m)"
      ],
      "execution_count": 1,
      "outputs": [
        {
          "output_type": "stream",
          "text": [
            "[['Mon' '18' '20' '22' '17']\n",
            " ['Tue' '11' '18' '21' '18']\n",
            " ['Wed' '15' '21' '20' '19']\n",
            " ['Thu' '11' '20' '22' '21']\n",
            " ['Fri' '18' '17' '23' '22']\n",
            " ['Sat' '12' '22' '20' '18']\n",
            " ['Sun' '13' '15' '19' '16']]\n"
          ],
          "name": "stdout"
        }
      ]
    },
    {
      "cell_type": "code",
      "metadata": {
        "id": "trRNoeF-5dCF",
        "outputId": "26775a53-897d-4275-9844-e30c27a460f6",
        "colab": {
          "base_uri": "https://localhost:8080/"
        }
      },
      "source": [
        "from numpy import * \n",
        "a = array([['Mon',18,20,22,17],['Tue',11,18,21,18],\n",
        "\t\t   ['Wed',15,21,20,19],['Thu',11,20,22,21],\n",
        "\t\t   ['Fri',18,17,23,22],['Sat',12,22,20,18],\n",
        "\t\t   ['Sun',13,15,19,16]])\n",
        "    \n",
        "m = reshape(a,(5,7))\n",
        "print(m)"
      ],
      "execution_count": 2,
      "outputs": [
        {
          "output_type": "stream",
          "text": [
            "[['Mon' '18' '20' '22' '17' 'Tue' '11']\n",
            " ['18' '21' '18' 'Wed' '15' '21' '20']\n",
            " ['19' 'Thu' '11' '20' '22' '21' 'Fri']\n",
            " ['18' '17' '23' '22' 'Sat' '12' '22']\n",
            " ['20' '18' 'Sun' '13' '15' '19' '16']]\n"
          ],
          "name": "stdout"
        }
      ]
    },
    {
      "cell_type": "code",
      "metadata": {
        "id": "jJGQ4PIi5jL8",
        "outputId": "bbdff1cc-1c05-455e-d66f-f398cfd27ac4",
        "colab": {
          "base_uri": "https://localhost:8080/"
        }
      },
      "source": [
        "from numpy import * \n",
        "a = array([['Mon',18,20,22,17],['Tue',11,18,21,18],\n",
        "\t\t   ['Wed',15,21,20,19],['Thu',11,20,22,21],\n",
        "\t\t   ['Fri',18,17,23,22],['Sat',12,22,20,18],\n",
        "\t\t   ['Sun',13,15,19,16]])\n",
        "    \n",
        "m = reshape(a,(7,5))\n",
        "print(m)"
      ],
      "execution_count": 7,
      "outputs": [
        {
          "output_type": "stream",
          "text": [
            "[['Mon' '18' '20' '22' '17']\n",
            " ['Tue' '11' '18' '21' '18']\n",
            " ['Wed' '15' '21' '20' '19']\n",
            " ['Thu' '11' '20' '22' '21']\n",
            " ['Fri' '18' '17' '23' '22']\n",
            " ['Sat' '12' '22' '20' '18']\n",
            " ['Sun' '13' '15' '19' '16']]\n"
          ],
          "name": "stdout"
        }
      ]
    },
    {
      "cell_type": "markdown",
      "metadata": {
        "id": "wMgE97O76Oow"
      },
      "source": [
        "Accessing Values in a Matrix"
      ]
    },
    {
      "cell_type": "code",
      "metadata": {
        "id": "1ORkbkCV6QBA",
        "outputId": "a30f4a40-5d40-4ca7-eccb-e2f2aea28aef",
        "colab": {
          "base_uri": "https://localhost:8080/"
        }
      },
      "source": [
        "from numpy import * \n",
        "m = array([['Mon',18,20,22,17],['Tue',11,18,21,18],\n",
        "\t\t   ['Wed',15,21,20,19],['Thu',11,20,22,21],\n",
        "\t\t   ['Fri',18,17,23,22],['Sat',12,22,20,18],\n",
        "\t\t   ['Sun',13,15,19,16]])\n",
        "    \n",
        "# Print data for Wednesday\n",
        "print(m[2])\n",
        "\n",
        "# Print data for friday evening\n",
        "print(m[4][3])"
      ],
      "execution_count": 8,
      "outputs": [
        {
          "output_type": "stream",
          "text": [
            "['Wed' '15' '21' '20' '19']\n",
            "23\n"
          ],
          "name": "stdout"
        }
      ]
    },
    {
      "cell_type": "markdown",
      "metadata": {
        "id": "xJMsPUm460An"
      },
      "source": [
        "Adding a row"
      ]
    },
    {
      "cell_type": "code",
      "metadata": {
        "id": "8jpPF4po61g9",
        "outputId": "c9ac273d-93b9-47da-ba9b-87681e40ed78",
        "colab": {
          "base_uri": "https://localhost:8080/"
        }
      },
      "source": [
        "from numpy import * \n",
        "m = array([['Mon',18,20,22,17],['Tue',11,18,21,18],\n",
        "\t\t   ['Wed',15,21,20,19],['Thu',11,20,22,21],\n",
        "\t\t   ['Fri',18,17,23,22],['Sat',12,22,20,18],\n",
        "\t\t   ['Sun',13,15,19,16]])\n",
        "    \n",
        "m_r = append(m,[['Avg',12,15,13,11]],0)\n",
        "\n",
        "print(m_r)"
      ],
      "execution_count": 9,
      "outputs": [
        {
          "output_type": "stream",
          "text": [
            "[['Mon' '18' '20' '22' '17']\n",
            " ['Tue' '11' '18' '21' '18']\n",
            " ['Wed' '15' '21' '20' '19']\n",
            " ['Thu' '11' '20' '22' '21']\n",
            " ['Fri' '18' '17' '23' '22']\n",
            " ['Sat' '12' '22' '20' '18']\n",
            " ['Sun' '13' '15' '19' '16']\n",
            " ['Avg' '12' '15' '13' '11']]\n"
          ],
          "name": "stdout"
        }
      ]
    },
    {
      "cell_type": "markdown",
      "metadata": {
        "id": "wuYWj-IG7PLi"
      },
      "source": [
        "Adding a column"
      ]
    },
    {
      "cell_type": "code",
      "metadata": {
        "id": "loa06-1f7QEZ",
        "outputId": "a0ed7a31-7b20-4e66-b624-43ae9701f4be",
        "colab": {
          "base_uri": "https://localhost:8080/"
        }
      },
      "source": [
        "from numpy import * \n",
        "m = array([['Mon',18,20,22,17],['Tue',11,18,21,18],\n",
        "\t\t   ['Wed',15,21,20,19],['Thu',11,20,22,21],\n",
        "\t\t   ['Fri',18,17,23,22],['Sat',12,22,20,18],\n",
        "\t\t   ['Sun',13,15,19,16]])\n",
        "    \n",
        "m_c = insert(m,[5],[[1],[2],[3],[4],[5],[6],[7]],1)\n",
        "\n",
        "print(m_c)"
      ],
      "execution_count": 10,
      "outputs": [
        {
          "output_type": "stream",
          "text": [
            "[['Mon' '18' '20' '22' '17' '1']\n",
            " ['Tue' '11' '18' '21' '18' '2']\n",
            " ['Wed' '15' '21' '20' '19' '3']\n",
            " ['Thu' '11' '20' '22' '21' '4']\n",
            " ['Fri' '18' '17' '23' '22' '5']\n",
            " ['Sat' '12' '22' '20' '18' '6']\n",
            " ['Sun' '13' '15' '19' '16' '7']]\n"
          ],
          "name": "stdout"
        }
      ]
    },
    {
      "cell_type": "markdown",
      "metadata": {
        "id": "RvSq3uIX8TLA"
      },
      "source": [
        "Delete a row form a Matrix"
      ]
    },
    {
      "cell_type": "code",
      "metadata": {
        "id": "NppCzIkK8UTU",
        "outputId": "c86ed968-559c-46c9-9f7b-ecc73546014e",
        "colab": {
          "base_uri": "https://localhost:8080/"
        }
      },
      "source": [
        "from numpy import * \n",
        "m = array([['Mon',18,20,22,17],['Tue',11,18,21,18],\n",
        "\t\t   ['Wed',15,21,20,19],['Thu',11,20,22,21],\n",
        "\t\t   ['Fri',18,17,23,22],['Sat',12,22,20,18],\n",
        "\t\t   ['Sun',13,15,19,16]])\n",
        "    \n",
        "m = delete(m,[2],0)\n",
        "\n",
        "print(m)"
      ],
      "execution_count": 11,
      "outputs": [
        {
          "output_type": "stream",
          "text": [
            "[['Mon' '18' '20' '22' '17']\n",
            " ['Tue' '11' '18' '21' '18']\n",
            " ['Thu' '11' '20' '22' '21']\n",
            " ['Fri' '18' '17' '23' '22']\n",
            " ['Sat' '12' '22' '20' '18']\n",
            " ['Sun' '13' '15' '19' '16']]\n"
          ],
          "name": "stdout"
        }
      ]
    },
    {
      "cell_type": "markdown",
      "metadata": {
        "id": "yDVzj_7E8dhH"
      },
      "source": [
        "Delete a column from a Matrix"
      ]
    },
    {
      "cell_type": "code",
      "metadata": {
        "id": "cuIn3H4u80xE",
        "outputId": "b69ef666-1d68-45fc-f2cb-87f0b26a5381",
        "colab": {
          "base_uri": "https://localhost:8080/"
        }
      },
      "source": [
        "from numpy import * \n",
        "m = array([['Mon',18,20,22,17],['Tue',11,18,21,18],\n",
        "\t\t   ['Wed',15,21,20,19],['Thu',11,20,22,21],\n",
        "\t\t   ['Fri',18,17,23,22],['Sat',12,22,20,18],\n",
        "\t\t   ['Sun',13,15,19,16]])\n",
        "    \n",
        "m = delete(m,s_[2],1)\n",
        "\n",
        "print(m)"
      ],
      "execution_count": 15,
      "outputs": [
        {
          "output_type": "stream",
          "text": [
            "[['Mon' '18' '22' '17']\n",
            " ['Tue' '11' '21' '18']\n",
            " ['Wed' '15' '20' '19']\n",
            " ['Thu' '11' '22' '21']\n",
            " ['Fri' '18' '23' '22']\n",
            " ['Sat' '12' '20' '18']\n",
            " ['Sun' '13' '19' '16']]\n"
          ],
          "name": "stdout"
        }
      ]
    },
    {
      "cell_type": "code",
      "metadata": {
        "id": "OAO7r6DV_NBq",
        "outputId": "bf3119ad-d898-456e-c608-bbd3e0c8de1b",
        "colab": {
          "base_uri": "https://localhost:8080/"
        }
      },
      "source": [
        "from numpy import * \n",
        "m = array([['Mon',18,20,22,17],['Tue',11,18,21,18],\n",
        "\t\t   ['Wed',15,21,20,19],['Thu',11,20,22,21],\n",
        "\t\t   ['Fri',18,17,23,22],['Sat',12,22,20,18],\n",
        "\t\t   ['Sun',13,15,19,16]])\n",
        "    \n",
        "m = delete(m,[2],0)\n",
        "\n",
        "print(m)"
      ],
      "execution_count": 21,
      "outputs": [
        {
          "output_type": "stream",
          "text": [
            "[['Mon' '18' '20' '22' '17']\n",
            " ['Tue' '11' '18' '21' '18']\n",
            " ['Thu' '11' '20' '22' '21']\n",
            " ['Fri' '18' '17' '23' '22']\n",
            " ['Sat' '12' '22' '20' '18']\n",
            " ['Sun' '13' '15' '19' '16']]\n"
          ],
          "name": "stdout"
        }
      ]
    },
    {
      "cell_type": "code",
      "metadata": {
        "id": "YPlLhIjD_KoR"
      },
      "source": [
        ""
      ],
      "execution_count": null,
      "outputs": []
    },
    {
      "cell_type": "markdown",
      "metadata": {
        "id": "_foDHIuo9G4U"
      },
      "source": [
        "Update a row in in a Matrix"
      ]
    },
    {
      "cell_type": "code",
      "metadata": {
        "id": "2cJdF3C_9HtV",
        "outputId": "33ebecdc-58f3-40eb-8611-0fdc68cbfb9a",
        "colab": {
          "base_uri": "https://localhost:8080/"
        }
      },
      "source": [
        "from numpy import * \n",
        "m = array([['Mon',18,20,22,17],['Tue',11,18,21,18],\n",
        "\t\t   ['Wed',15,21,20,19],['Thu',11,20,22,21],\n",
        "\t\t   ['Fri',18,17,23,22],['Sat',12,22,20,18],\n",
        "\t\t   ['Sun',13,15,19,16]])\n",
        "    \n",
        "m[3] = ['Thu',0,0,0,0]\n",
        "\n",
        "print(m)"
      ],
      "execution_count": 13,
      "outputs": [
        {
          "output_type": "stream",
          "text": [
            "[['Mon' '18' '20' '22' '17']\n",
            " ['Tue' '11' '18' '21' '18']\n",
            " ['Wed' '15' '21' '20' '19']\n",
            " ['Thu' '0' '0' '0' '0']\n",
            " ['Fri' '18' '17' '23' '22']\n",
            " ['Sat' '12' '22' '20' '18']\n",
            " ['Sun' '13' '15' '19' '16']]\n"
          ],
          "name": "stdout"
        }
      ]
    },
    {
      "cell_type": "code",
      "metadata": {
        "id": "-ReKfCoI-98K",
        "outputId": "5f41239d-4326-4535-dbcd-c9c967ef66aa",
        "colab": {
          "base_uri": "https://localhost:8080/"
        }
      },
      "source": [
        "from numpy import * \n",
        "m = array([['Mon',18,20,22,17],['Tue',11,18,21,18],\n",
        "\t\t   ['Wed',15,21,20,19],['Thu',11,20,22,21],\n",
        "\t\t   ['Fri',18,17,23,22],['Sat',12,22,20,18],\n",
        "\t\t   ['Sun',13,15,19,16]])\n",
        "    \n",
        "m[5] = ['Thu',0,0,0,0]\n",
        "\n",
        "print(m)"
      ],
      "execution_count": 14,
      "outputs": [
        {
          "output_type": "stream",
          "text": [
            "[['Mon' '18' '20' '22' '17']\n",
            " ['Tue' '11' '18' '21' '18']\n",
            " ['Wed' '15' '21' '20' '19']\n",
            " ['Thu' '11' '20' '22' '21']\n",
            " ['Fri' '18' '17' '23' '22']\n",
            " ['Thu' '0' '0' '0' '0']\n",
            " ['Sun' '13' '15' '19' '16']]\n"
          ],
          "name": "stdout"
        }
      ]
    }
  ]
}
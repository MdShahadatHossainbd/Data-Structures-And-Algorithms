{
  "nbformat": 4,
  "nbformat_minor": 0,
  "metadata": {
    "colab": {
      "name": "07 Sets.ipynb",
      "provenance": [],
      "authorship_tag": "ABX9TyPPMHt8IZZc92darSBve336",
      "include_colab_link": true
    },
    "kernelspec": {
      "name": "python3",
      "display_name": "Python 3"
    }
  },
  "cells": [
    {
      "cell_type": "markdown",
      "metadata": {
        "id": "view-in-github",
        "colab_type": "text"
      },
      "source": [
        "<a href=\"https://colab.research.google.com/github/MdShahadatHossainbd/Data-Structures-And-Algorithms/blob/main/07_Sets.ipynb\" target=\"_parent\"><img src=\"https://colab.research.google.com/assets/colab-badge.svg\" alt=\"Open In Colab\"/></a>"
      ]
    },
    {
      "cell_type": "markdown",
      "metadata": {
        "id": "wjauoaPXP2Em"
      },
      "source": [
        "Creating a set"
      ]
    },
    {
      "cell_type": "code",
      "metadata": {
        "id": "XbOSzXWjNJWD",
        "outputId": "b25c51f4-5eee-4bd3-9b54-661daa352594",
        "colab": {
          "base_uri": "https://localhost:8080/"
        }
      },
      "source": [
        "Days=set([\"Mon\",\"Tue\",\"Wed\",\"Thu\",\"Fri\",\"Sat\",\"Sun\"])\n",
        "Months={\"Jan\",\"Feb\",\"Mar\"}\n",
        "Dates={21,22,17}\n",
        "print(Days)\n",
        "print(Months)\n",
        "print(Dates)"
      ],
      "execution_count": 1,
      "outputs": [
        {
          "output_type": "stream",
          "text": [
            "{'Tue', 'Wed', 'Sat', 'Fri', 'Thu', 'Mon', 'Sun'}\n",
            "{'Jan', 'Mar', 'Feb'}\n",
            "{17, 21, 22}\n"
          ],
          "name": "stdout"
        }
      ]
    },
    {
      "cell_type": "markdown",
      "metadata": {
        "id": "Lp6gGpoIP8ts"
      },
      "source": [
        "Accessing Values in a Set"
      ]
    },
    {
      "cell_type": "code",
      "metadata": {
        "id": "d68DpY4TP9s6",
        "outputId": "8631e700-e162-4855-eb9c-3571d92a042d",
        "colab": {
          "base_uri": "https://localhost:8080/"
        }
      },
      "source": [
        "Days=set([\"Mon\",\"Tue\",\"Wed\",\"Thu\",\"Fri\",\"Sat\",\"Sun\"])\n",
        " \n",
        "for d in Days:\n",
        "\tprint(d)"
      ],
      "execution_count": 2,
      "outputs": [
        {
          "output_type": "stream",
          "text": [
            "Tue\n",
            "Wed\n",
            "Sat\n",
            "Fri\n",
            "Thu\n",
            "Mon\n",
            "Sun\n"
          ],
          "name": "stdout"
        }
      ]
    },
    {
      "cell_type": "markdown",
      "metadata": {
        "id": "_4GsJyM-QEeR"
      },
      "source": [
        "Adding Items to a Set"
      ]
    },
    {
      "cell_type": "code",
      "metadata": {
        "id": "u9H49odWQIAY",
        "outputId": "89df87e1-5a4f-4276-b63f-ded8af3e95f2",
        "colab": {
          "base_uri": "https://localhost:8080/"
        }
      },
      "source": [
        "Days=set([\"Mon\",\"Tue\",\"Wed\",\"Thu\",\"Fri\",\"Sat\"])\n",
        " \n",
        "Days.add(\"Sun\")\n",
        "print(Days)"
      ],
      "execution_count": 3,
      "outputs": [
        {
          "output_type": "stream",
          "text": [
            "{'Tue', 'Wed', 'Sat', 'Fri', 'Thu', 'Mon', 'Sun'}\n"
          ],
          "name": "stdout"
        }
      ]
    },
    {
      "cell_type": "markdown",
      "metadata": {
        "id": "NU1_C_23QOmI"
      },
      "source": [
        "Removing Item from a Set"
      ]
    },
    {
      "cell_type": "code",
      "metadata": {
        "id": "mYHH_n_cQRXg",
        "outputId": "a9ff033f-2d39-44bf-81da-241c731946aa",
        "colab": {
          "base_uri": "https://localhost:8080/"
        }
      },
      "source": [
        "Days=set([\"Mon\",\"Tue\",\"Wed\",\"Thu\",\"Fri\",\"Sat\"])\n",
        " \n",
        "Days.discard(\"Sun\")\n",
        "print(Days)"
      ],
      "execution_count": 4,
      "outputs": [
        {
          "output_type": "stream",
          "text": [
            "{'Tue', 'Wed', 'Sat', 'Fri', 'Thu', 'Mon'}\n"
          ],
          "name": "stdout"
        }
      ]
    },
    {
      "cell_type": "markdown",
      "metadata": {
        "id": "UIy67FNeQpz4"
      },
      "source": [
        "Union of Sets"
      ]
    },
    {
      "cell_type": "code",
      "metadata": {
        "id": "CkxyoaDNQqsM",
        "outputId": "6961848a-e7ef-48ae-b312-49695c4b83d2",
        "colab": {
          "base_uri": "https://localhost:8080/"
        }
      },
      "source": [
        "DaysA = set([\"Mon\",\"Tue\",\"Wed\"])\n",
        "DaysB = set([\"Wed\",\"Thu\",\"Fri\",\"Sat\",\"Sun\"])\n",
        "AllDays = DaysA|DaysB\n",
        "print(AllDays)"
      ],
      "execution_count": 5,
      "outputs": [
        {
          "output_type": "stream",
          "text": [
            "{'Tue', 'Wed', 'Sat', 'Fri', 'Thu', 'Mon', 'Sun'}\n"
          ],
          "name": "stdout"
        }
      ]
    },
    {
      "cell_type": "markdown",
      "metadata": {
        "id": "awRpoqP7Qw2M"
      },
      "source": [
        "Intersection of Sets"
      ]
    },
    {
      "cell_type": "code",
      "metadata": {
        "id": "tWuJGY7RQzj3",
        "outputId": "6d4129aa-4903-464a-e0e9-672ed9610863",
        "colab": {
          "base_uri": "https://localhost:8080/"
        }
      },
      "source": [
        "DaysA = set([\"Mon\",\"Tue\",\"Wed\"])\n",
        "DaysB = set([\"Wed\",\"Thu\",\"Fri\",\"Sat\",\"Sun\"])\n",
        "AllDays = DaysA & DaysB\n",
        "print(AllDays)"
      ],
      "execution_count": 6,
      "outputs": [
        {
          "output_type": "stream",
          "text": [
            "{'Wed'}\n"
          ],
          "name": "stdout"
        }
      ]
    },
    {
      "cell_type": "markdown",
      "metadata": {
        "id": "rAlyX5Q3Q_KM"
      },
      "source": [
        "Difference of Sets"
      ]
    },
    {
      "cell_type": "code",
      "metadata": {
        "id": "W_yfBjKsRB3L",
        "outputId": "7638b1ce-0eb6-4ef1-e3a2-bca082a5a5db",
        "colab": {
          "base_uri": "https://localhost:8080/"
        }
      },
      "source": [
        "DaysA = set([\"Mon\",\"Tue\",\"Wed\"])\n",
        "DaysB = set([\"Wed\",\"Thu\",\"Fri\",\"Sat\",\"Sun\"])\n",
        "AllDays = DaysA - DaysB\n",
        "print(AllDays)"
      ],
      "execution_count": 7,
      "outputs": [
        {
          "output_type": "stream",
          "text": [
            "{'Mon', 'Tue'}\n"
          ],
          "name": "stdout"
        }
      ]
    },
    {
      "cell_type": "markdown",
      "metadata": {
        "id": "rU5gyALvRHMU"
      },
      "source": [
        "Compare Sets"
      ]
    },
    {
      "cell_type": "code",
      "metadata": {
        "id": "cOWz90ZxRH40",
        "outputId": "fc3dc58e-f0ca-463f-cd41-c7526f2df547",
        "colab": {
          "base_uri": "https://localhost:8080/"
        }
      },
      "source": [
        "DaysA = set([\"Mon\",\"Tue\",\"Wed\"])\n",
        "DaysB = set([\"Mon\",\"Tue\",\"Wed\",\"Thu\",\"Fri\",\"Sat\",\"Sun\"])\n",
        "SubsetRes = DaysA <= DaysB\n",
        "SupersetRes = DaysB >= DaysA\n",
        "print(SubsetRes)\n",
        "print(SupersetRes)"
      ],
      "execution_count": 8,
      "outputs": [
        {
          "output_type": "stream",
          "text": [
            "True\n",
            "True\n"
          ],
          "name": "stdout"
        }
      ]
    }
  ]
}
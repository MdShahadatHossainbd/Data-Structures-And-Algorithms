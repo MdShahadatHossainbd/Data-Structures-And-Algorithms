{
  "nbformat": 4,
  "nbformat_minor": 0,
  "metadata": {
    "colab": {
      "name": "09 Linked list.ipynb",
      "provenance": [],
      "authorship_tag": "ABX9TyNfJZDs4d9PQRaC5DGIxFSI",
      "include_colab_link": true
    },
    "kernelspec": {
      "name": "python3",
      "display_name": "Python 3"
    }
  },
  "cells": [
    {
      "cell_type": "markdown",
      "metadata": {
        "id": "view-in-github",
        "colab_type": "text"
      },
      "source": [
        "<a href=\"https://colab.research.google.com/github/MdShahadatHossainbd/Data-Structures-And-Algorithms/blob/main/09_Linked_list.ipynb\" target=\"_parent\"><img src=\"https://colab.research.google.com/assets/colab-badge.svg\" alt=\"Open In Colab\"/></a>"
      ]
    },
    {
      "cell_type": "markdown",
      "metadata": {
        "id": "WJSDg3WXFGg-"
      },
      "source": [
        "Creation of Linked list"
      ]
    },
    {
      "cell_type": "code",
      "metadata": {
        "id": "B7hlHV8NE07l"
      },
      "source": [
        "class Node:\n",
        "    def __init__(self, dataval=None):\n",
        "        self.dataval = dataval\n",
        "        self.nextval = None\n",
        "\n",
        "class SLinkedList:\n",
        "    def __init__(self):\n",
        "        self.headval = None\n",
        "\n",
        "list1 = SLinkedList()\n",
        "list1.headval = Node(\"Mon\")\n",
        "e2 = Node(\"Tue\")\n",
        "e3 = Node(\"Wed\")\n",
        "# Link first Node to second node\n",
        "list1.headval.nextval = e2\n",
        "\n",
        "# Link second Node to third node\n",
        "e2.nextval = e3"
      ],
      "execution_count": 1,
      "outputs": []
    },
    {
      "cell_type": "markdown",
      "metadata": {
        "id": "_0QLxv7CFa3k"
      },
      "source": [
        "Traversing a Linked List"
      ]
    },
    {
      "cell_type": "code",
      "metadata": {
        "id": "5GOgBR_oFbdI",
        "outputId": "42929f19-304d-4097-92a1-20753b004f49",
        "colab": {
          "base_uri": "https://localhost:8080/"
        }
      },
      "source": [
        "class Node:\n",
        "    def __init__(self, dataval=None):\n",
        "        self.dataval = dataval\n",
        "        self.nextval = None\n",
        "\n",
        "class SLinkedList:\n",
        "    def __init__(self):\n",
        "        self.headval = None\n",
        "\n",
        "    def listprint(self):\n",
        "        printval = self.headval\n",
        "        while printval is not None:\n",
        "            print(printval.dataval)\n",
        "            printval = printval.nextval\n",
        "\n",
        "list = SLinkedList()\n",
        "list.headval = Node(\"Mon\")\n",
        "e2 = Node(\"Tue\")\n",
        "e3 = Node(\"Wed\")\n",
        "\n",
        "# Link first Node to second node\n",
        "list.headval.nextval = e2\n",
        "\n",
        "# Link second Node to third node\n",
        "e2.nextval = e3\n",
        "\n",
        "list.listprint()"
      ],
      "execution_count": 4,
      "outputs": [
        {
          "output_type": "stream",
          "text": [
            "Mon\n",
            "Tue\n",
            "Wed\n"
          ],
          "name": "stdout"
        }
      ]
    },
    {
      "cell_type": "markdown",
      "metadata": {
        "id": "ZPJkVolQFrvN"
      },
      "source": [
        "Insertion in a Linked List"
      ]
    },
    {
      "cell_type": "code",
      "metadata": {
        "id": "boD_3DUxFuvD",
        "outputId": "1ef2d319-09e3-4c37-8f48-1b4afc237a50",
        "colab": {
          "base_uri": "https://localhost:8080/"
        }
      },
      "source": [
        "class Node:\n",
        "    def __init__(self, dataval=None):\n",
        "        self.dataval = dataval\n",
        "        self.nextval = None\n",
        "\n",
        "class SLinkedList:\n",
        "    def __init__(self):\n",
        "        self.headval = None\n",
        "\n",
        "# Print the linked list\n",
        "    def listprint(self):\n",
        "        printval = self.headval\n",
        "        while printval is not None:\n",
        "            print (printval.dataval)\n",
        "            printval = printval.nextval\n",
        "    def AtBegining(self,newdata):\n",
        "        NewNode = Node(newdata)\n",
        "\n",
        "# Update the new nodes next val to existing node\n",
        "        NewNode.nextval = self.headval\n",
        "        self.headval = NewNode\n",
        "\n",
        "list = SLinkedList()\n",
        "list.headval = Node(\"Mon\")\n",
        "e2 = Node(\"Tue\")\n",
        "e3 = Node(\"Wed\")\n",
        "\n",
        "list.headval.nextval = e2\n",
        "e2.nextval = e3\n",
        "\n",
        "list.AtBegining(\"Sun\")\n",
        "\n",
        "list.listprint()"
      ],
      "execution_count": 5,
      "outputs": [
        {
          "output_type": "stream",
          "text": [
            "Sun\n",
            "Mon\n",
            "Tue\n",
            "Wed\n"
          ],
          "name": "stdout"
        }
      ]
    },
    {
      "cell_type": "markdown",
      "metadata": {
        "id": "sU7oeXMiF0U-"
      },
      "source": [
        "Inserting at the End of the Linked List"
      ]
    },
    {
      "cell_type": "code",
      "metadata": {
        "id": "64pOU-mXF23y",
        "outputId": "c496328b-ccda-490e-d89d-1f04e3f33e0f",
        "colab": {
          "base_uri": "https://localhost:8080/"
        }
      },
      "source": [
        "class Node:\n",
        "    def __init__(self, dataval=None):\n",
        "        self.dataval = dataval\n",
        "        self.nextval = None\n",
        "\n",
        "class SLinkedList:\n",
        "    def __init__(self):\n",
        "        self.headval = None\n",
        "\n",
        "# Function to add newnode\n",
        "    def AtEnd(self, newdata):\n",
        "        NewNode = Node(newdata)\n",
        "        if self.headval is None:\n",
        "            self.headval = NewNode\n",
        "            return\n",
        "        laste = self.headval\n",
        "        while(laste.nextval):\n",
        "            laste = laste.nextval\n",
        "        laste.nextval=NewNode\n",
        "\n",
        "# Print the linked list\n",
        "    def listprint(self):\n",
        "        printval = self.headval\n",
        "        while printval is not None:\n",
        "            print (printval.dataval)\n",
        "            printval = printval.nextval\n",
        "\n",
        "\n",
        "list = SLinkedList()\n",
        "list.headval = Node(\"Mon\")\n",
        "e2 = Node(\"Tue\")\n",
        "e3 = Node(\"Wed\")\n",
        "\n",
        "list.headval.nextval = e2\n",
        "e2.nextval = e3\n",
        "\n",
        "list.AtEnd(\"Thu\")\n",
        "\n",
        "list.listprint()"
      ],
      "execution_count": 6,
      "outputs": [
        {
          "output_type": "stream",
          "text": [
            "Mon\n",
            "Tue\n",
            "Wed\n",
            "Thu\n"
          ],
          "name": "stdout"
        }
      ]
    },
    {
      "cell_type": "markdown",
      "metadata": {
        "id": "bAx9Y_9JGA9P"
      },
      "source": [
        "Inserting in between two Data Nodes "
      ]
    },
    {
      "cell_type": "code",
      "metadata": {
        "id": "HKWMH0UBGFj1",
        "outputId": "b7360ae5-c084-437c-ca32-1f87531ba4ee",
        "colab": {
          "base_uri": "https://localhost:8080/"
        }
      },
      "source": [
        "class Node:\n",
        "    def __init__(self, dataval=None):\n",
        "        self.dataval = dataval\n",
        "        self.nextval = None\n",
        "\n",
        "class SLinkedList:\n",
        "    def __init__(self):\n",
        "        self.headval = None\n",
        "\n",
        "# Function to add node\n",
        "    def Inbetween(self,middle_node,newdata):\n",
        "        if middle_node is None:\n",
        "            print(\"The mentioned node is absent\")\n",
        "            return\n",
        "\n",
        "        NewNode = Node(newdata)\n",
        "        NewNode.nextval = middle_node.nextval\n",
        "        middle_node.nextval = NewNode\n",
        "\n",
        "# Print the linked list\n",
        "    def listprint(self):\n",
        "        printval = self.headval\n",
        "        while printval is not None:\n",
        "            print (printval.dataval)\n",
        "            printval = printval.nextval\n",
        "\n",
        "\n",
        "list = SLinkedList()\n",
        "list.headval = Node(\"Mon\")\n",
        "e2 = Node(\"Tue\")\n",
        "e3 = Node(\"Thu\")\n",
        "\n",
        "list.headval.nextval = e2\n",
        "e2.nextval = e3\n",
        "\n",
        "list.Inbetween(list.headval.nextval,\"Fri\")\n",
        "\n",
        "list.listprint()"
      ],
      "execution_count": 7,
      "outputs": [
        {
          "output_type": "stream",
          "text": [
            "Mon\n",
            "Tue\n",
            "Fri\n",
            "Thu\n"
          ],
          "name": "stdout"
        }
      ]
    },
    {
      "cell_type": "markdown",
      "metadata": {
        "id": "2xwOkInJGVex"
      },
      "source": [
        "Removing an Item form a Liked List"
      ]
    },
    {
      "cell_type": "code",
      "metadata": {
        "id": "lHseDzBqGZ5t",
        "outputId": "80f2be4e-9954-4203-c3aa-f8ca846cd472",
        "colab": {
          "base_uri": "https://localhost:8080/"
        }
      },
      "source": [
        "class Node:\n",
        "    def __init__(self, data=None):\n",
        "        self.data = data\n",
        "        self.next = None\n",
        "\n",
        "class SLinkedList:\n",
        "    def __init__(self):\n",
        "        self.head = None\n",
        "\n",
        "    def Atbegining(self, data_in):\n",
        "        NewNode = Node(data_in)\n",
        "        NewNode.next = self.head\n",
        "        self.head = NewNode\n",
        "\t\t\n",
        "# Function to remove node\n",
        "    def RemoveNode(self, Removekey):\n",
        "\n",
        "        HeadVal = self.head\n",
        "\n",
        "        if (HeadVal is not None):\n",
        "            if (HeadVal.data == Removekey):\n",
        "                self.head = HeadVal.next\n",
        "                HeadVal = None\n",
        "                return\n",
        "\n",
        "        while (HeadVal is not None):\n",
        "            if HeadVal.data == Removekey:\n",
        "                break\n",
        "            prev = HeadVal\n",
        "            HeadVal = HeadVal.next\n",
        "\n",
        "        if (HeadVal == None):\n",
        "            return\n",
        "\n",
        "        prev.next = HeadVal.next\n",
        "\n",
        "        HeadVal = None\n",
        "\n",
        "    def LListprint(self):\n",
        "        printval = self.head\n",
        "        while (printval):\n",
        "            print(printval.data),\n",
        "            printval = printval.next\n",
        "\n",
        "\n",
        "llist = SLinkedList()\n",
        "llist.Atbegining(\"Mon\")\n",
        "llist.Atbegining(\"Tue\")\n",
        "llist.Atbegining(\"Wed\")\n",
        "llist.Atbegining(\"Thu\")\n",
        "llist.RemoveNode(\"Tue\")\n",
        "llist.LListprint()"
      ],
      "execution_count": 8,
      "outputs": [
        {
          "output_type": "stream",
          "text": [
            "Thu\n",
            "Wed\n",
            "Mon\n"
          ],
          "name": "stdout"
        }
      ]
    }
  ]
}